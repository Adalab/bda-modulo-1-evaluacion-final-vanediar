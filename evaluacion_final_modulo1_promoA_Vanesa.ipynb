{
 "cells": [
  {
   "cell_type": "code",
   "execution_count": 3,
   "metadata": {},
   "outputs": [
    {
     "ename": "IndentationError",
     "evalue": "expected an indented block (51071227.py, line 62)",
     "output_type": "error",
     "traceback": [
      "\u001b[0;36m  File \u001b[0;32m\"/tmp/ipykernel_3398/51071227.py\"\u001b[0;36m, line \u001b[0;32m62\u001b[0m\n\u001b[0;31m    \u001b[0m\n\u001b[0m    ^\u001b[0m\n\u001b[0;31mIndentationError\u001b[0m\u001b[0;31m:\u001b[0m expected an indented block\n"
     ]
    }
   ],
   "source": [
    "class TiendaOnline:\n",
    "\n",
    "    def __init__(self):\n",
    "        self.inventario = []          #Creo una lista para el inventario: [{nombre, precio, cantidad}]\n",
    "        self.clientes = {}            #Creo un diccionario para registrar a los clientes y sus datos: {clientes:[email, compras]}\n",
    "        self.ventas_totales = 0.0\n",
    "\n",
    "    #MÉTODO 1\n",
    "    def agregar_producto(self, nombre, precio, cantidad):\n",
    "        producto = {'nombre':nombre, 'precio':precio, 'cantidad':cantidad}\n",
    "        if producto not in self.inventario:\n",
    "            self.inventario.append(producto)\n",
    "            return self.inventario\n",
    "        elif producto['cantidad'] != self.inventario['cantidad']:\n",
    "            self.inventario['cantidad'] = cantidad\n",
    "            return f'Se ha actualizado la cantidad del producto', nombre\n",
    "        else:\n",
    "            print('El producto', nombre, 'ya existe en el inventario')\n",
    "\n",
    "    #MÉTODO 2\n",
    "    def ver_inventario(self):\n",
    "\n",
    "       inventario = {}\n",
    "       for producto in self.inventario:\n",
    "            inventario.append(producto['nombre', 'precio', 'cantidad'])\n",
    "            return inventario\n",
    "    \n",
    "    #MÉTODO 3\n",
    "    def buscar_producto(self, nombre):\n",
    "        busqueda = {}\n",
    "        for producto in self.inventario:\n",
    "            if producto['nombre'].lower == nombre.lower:\n",
    "               busqueda.append(producto['nombre'], producto['precio'], producto['cantidad'])\n",
    "            return busqueda\n",
    "        else:\n",
    "            return f'El producto no existe en el inventario'\n",
    "\n",
    "    #MÉTODO 4\n",
    "    def actualizar_stock(self, nombre, cantidad):\n",
    "\n",
    "        for producto, stock in self.inventario():\n",
    "            if producto['nombre'] == nombre:\n",
    "                stock['cantidad'] += cantidad\n",
    "            print(f'Se ha actualizado el stock de', nombre)\n",
    "            #Para que no siga iterando sobre el resto del diccionario.\n",
    "            break\n",
    "        else:\n",
    "            print(f'El producto no está en el stock')\n",
    "\n",
    "    #MÉTODO 5\n",
    "    def eliminar_producto(self, nombre):\n",
    "\n",
    "        for producto in self.inventario:\n",
    "            if producto['nombre'] == nombre:\n",
    "                self.inventario.pop(producto)\n",
    "            print(f'Se ha eliminado el producto', nombre, 'del inventario')\n",
    "        else:\n",
    "            print(f'El producto', nombre, 'no existe en el inventario')\n",
    "\n",
    "    #MÉTODO 6\n",
    "    def calcular_valor_inventario(self):\n",
    "        valor_inventario = 0.0\n",
    "        for producto in self.inventario:\n",
    "            valor_producto = producto['precio'] * producto['cantidad']\n",
    "            valor_inventario += valor_producto\n",
    "            return valor_inventario\n",
    "        \n",
    "    #MÉTODO 7\n",
    "    def buscar_producto_regex(self, patron):\n",
    "        lista_patron = []\n",
    "        for regex in self.inventario:\n",
    "\n",
    "    #MÉTODO 10\n",
    "    def registrar_cliente(self, nombre, email):\n",
    "        self.clientes = {}\n",
    "        if nombre not in self.clientes[nombre]:\n",
    "            \n",
    "\n",
    "            \n",
    "\n"
   ]
  },
  {
   "cell_type": "code",
   "execution_count": 5,
   "metadata": {},
   "outputs": [
    {
     "ename": "NameError",
     "evalue": "name 'TiendaOnline' is not defined",
     "output_type": "error",
     "traceback": [
      "\u001b[0;31m---------------------------------------------------------------------------\u001b[0m",
      "\u001b[0;31mNameError\u001b[0m                                 Traceback (most recent call last)",
      "\u001b[0;32m/tmp/ipykernel_3398/1663268660.py\u001b[0m in \u001b[0;36m<module>\u001b[0;34m\u001b[0m\n\u001b[0;32m----> 1\u001b[0;31m \u001b[0mtienda_online\u001b[0m \u001b[0;34m=\u001b[0m \u001b[0mTiendaOnline\u001b[0m\u001b[0;34m(\u001b[0m\u001b[0;34m'TiendaWeb'\u001b[0m\u001b[0;34m)\u001b[0m\u001b[0;34m\u001b[0m\u001b[0;34m\u001b[0m\u001b[0m\n\u001b[0m\u001b[1;32m      2\u001b[0m \u001b[0;34m\u001b[0m\u001b[0m\n\u001b[1;32m      3\u001b[0m \u001b[0;34m\u001b[0m\u001b[0m\n\u001b[1;32m      4\u001b[0m \u001b[0mtienda_online\u001b[0m\u001b[0;34m.\u001b[0m\u001b[0magregar_producto\u001b[0m\u001b[0;34m(\u001b[0m\u001b[0;34m'camisa'\u001b[0m\u001b[0;34m,\u001b[0m \u001b[0;36m20.0\u001b[0m\u001b[0;34m,\u001b[0m \u001b[0;36m10\u001b[0m\u001b[0;34m)\u001b[0m\u001b[0;34m\u001b[0m\u001b[0;34m\u001b[0m\u001b[0m\n",
      "\u001b[0;31mNameError\u001b[0m: name 'TiendaOnline' is not defined"
     ]
    }
   ],
   "source": [
    "tienda_online = TiendaOnline\n",
    "\n",
    "\n",
    "tienda_online.agregar_producto('camisa', 20.0, 10)\n"
   ]
  },
  {
   "cell_type": "code",
   "execution_count": null,
   "metadata": {},
   "outputs": [],
   "source": []
  }
 ],
 "metadata": {
  "kernelspec": {
   "display_name": "Python 3",
   "language": "python",
   "name": "python3"
  },
  "language_info": {
   "codemirror_mode": {
    "name": "ipython",
    "version": 3
   },
   "file_extension": ".py",
   "mimetype": "text/x-python",
   "name": "python",
   "nbconvert_exporter": "python",
   "pygments_lexer": "ipython3",
   "version": "3.9.7"
  }
 },
 "nbformat": 4,
 "nbformat_minor": 2
}
